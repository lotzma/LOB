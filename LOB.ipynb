{
 "cells": [
  {
   "cell_type": "markdown",
   "metadata": {},
   "source": [
    "# Explore the Limit Order Book data provided by Andreas"
   ]
  },
  {
   "cell_type": "markdown",
   "metadata": {},
   "source": [
    "Data is from [E-mini S&P 500](http://www.cmegroup.com/trading/equity-index/us-index/e-mini-sandp500.html) Futures contracts (with the most recent expiry). The timestamps are in nanoseconds Unix time, but can be converted to DateTime objects in Pandas. The specifications for the contracts can be found on CME website."
   ]
  },
  {
   "cell_type": "code",
   "execution_count": 16,
   "metadata": {
    "collapsed": true
   },
   "outputs": [],
   "source": [
    "import pandas as pd\n",
    "import numpy as np\n",
    "import numpy.random as rnd\n",
    "import matplotlib.pyplot as plt\n",
    "import matplotlib.animation as animation\n",
    "from IPython.display import HTML"
   ]
  },
  {
   "cell_type": "code",
   "execution_count": 2,
   "metadata": {
    "collapsed": true
   },
   "outputs": [],
   "source": [
    "# Get data for one day (the complete data can be loaded with a loop scanning through the directory)\n",
    "mydata = pd.HDFStore('data/1707/170703#ES.F.GLOB.1709#I#310#SBE##AB#t0.chi#top5.h5')"
   ]
  },
  {
   "cell_type": "markdown",
   "metadata": {},
   "source": [
    "### Explore the data"
   ]
  },
  {
   "cell_type": "code",
   "execution_count": 3,
   "metadata": {},
   "outputs": [
    {
     "name": "stdout",
     "output_type": "stream",
     "text": [
      "<class 'pandas.io.pytables.HDFStore'>\n",
      "File path: data/1707/170703#ES.F.GLOB.1709#I#310#SBE##AB#t0.chi#top5.h5\n",
      "/data                    frame                       \n",
      "/feed_sources            frame        (shape->[1,21])\n"
     ]
    }
   ],
   "source": [
    "# See what the data looks like: it's a structure with a 'data' field that contains the data\n",
    "print(mydata)"
   ]
  },
  {
   "cell_type": "code",
   "execution_count": 4,
   "metadata": {},
   "outputs": [
    {
     "data": {
      "text/html": [
       "<div>\n",
       "<style>\n",
       "    .dataframe thead tr:only-child th {\n",
       "        text-align: right;\n",
       "    }\n",
       "\n",
       "    .dataframe thead th {\n",
       "        text-align: left;\n",
       "    }\n",
       "\n",
       "    .dataframe tbody tr th {\n",
       "        vertical-align: top;\n",
       "    }\n",
       "</style>\n",
       "<table border=\"1\" class=\"dataframe\">\n",
       "  <thead>\n",
       "    <tr>\n",
       "      <th></th>\n",
       "      <th>seq_num</th>\n",
       "      <th>bid</th>\n",
       "      <th>bid_qty</th>\n",
       "      <th>ask</th>\n",
       "      <th>ask_qty</th>\n",
       "      <th>bid</th>\n",
       "      <th>bid_qty</th>\n",
       "      <th>ask</th>\n",
       "      <th>ask_qty</th>\n",
       "      <th>bid</th>\n",
       "      <th>...</th>\n",
       "      <th>ask</th>\n",
       "      <th>ask_qty</th>\n",
       "      <th>bid</th>\n",
       "      <th>bid_qty</th>\n",
       "      <th>ask</th>\n",
       "      <th>ask_qty</th>\n",
       "      <th>bid</th>\n",
       "      <th>bid_qty</th>\n",
       "      <th>ask</th>\n",
       "      <th>ask_qty</th>\n",
       "    </tr>\n",
       "    <tr>\n",
       "      <th></th>\n",
       "      <th>0</th>\n",
       "      <th>0</th>\n",
       "      <th>0</th>\n",
       "      <th>0</th>\n",
       "      <th>0</th>\n",
       "      <th>1</th>\n",
       "      <th>1</th>\n",
       "      <th>1</th>\n",
       "      <th>1</th>\n",
       "      <th>2</th>\n",
       "      <th>...</th>\n",
       "      <th>2</th>\n",
       "      <th>2</th>\n",
       "      <th>3</th>\n",
       "      <th>3</th>\n",
       "      <th>3</th>\n",
       "      <th>3</th>\n",
       "      <th>4</th>\n",
       "      <th>4</th>\n",
       "      <th>4</th>\n",
       "      <th>4</th>\n",
       "    </tr>\n",
       "    <tr>\n",
       "      <th>t_ns</th>\n",
       "      <th></th>\n",
       "      <th></th>\n",
       "      <th></th>\n",
       "      <th></th>\n",
       "      <th></th>\n",
       "      <th></th>\n",
       "      <th></th>\n",
       "      <th></th>\n",
       "      <th></th>\n",
       "      <th></th>\n",
       "      <th></th>\n",
       "      <th></th>\n",
       "      <th></th>\n",
       "      <th></th>\n",
       "      <th></th>\n",
       "      <th></th>\n",
       "      <th></th>\n",
       "      <th></th>\n",
       "      <th></th>\n",
       "      <th></th>\n",
       "      <th></th>\n",
       "    </tr>\n",
       "  </thead>\n",
       "  <tbody>\n",
       "    <tr>\n",
       "      <th>1499032800045275159</th>\n",
       "      <td>3083</td>\n",
       "      <td>242175.0</td>\n",
       "      <td>41</td>\n",
       "      <td>242200.0</td>\n",
       "      <td>56</td>\n",
       "      <td>242150.0</td>\n",
       "      <td>56</td>\n",
       "      <td>242225.0</td>\n",
       "      <td>127</td>\n",
       "      <td>242125.0</td>\n",
       "      <td>...</td>\n",
       "      <td>242250.0</td>\n",
       "      <td>227</td>\n",
       "      <td>242100.0</td>\n",
       "      <td>103</td>\n",
       "      <td>242275.0</td>\n",
       "      <td>15</td>\n",
       "      <td>242075.0</td>\n",
       "      <td>20</td>\n",
       "      <td>242300.0</td>\n",
       "      <td>120</td>\n",
       "    </tr>\n",
       "    <tr>\n",
       "      <th>1499032800045599244</th>\n",
       "      <td>3089</td>\n",
       "      <td>242175.0</td>\n",
       "      <td>47</td>\n",
       "      <td>242200.0</td>\n",
       "      <td>56</td>\n",
       "      <td>242150.0</td>\n",
       "      <td>56</td>\n",
       "      <td>242225.0</td>\n",
       "      <td>127</td>\n",
       "      <td>242125.0</td>\n",
       "      <td>...</td>\n",
       "      <td>242250.0</td>\n",
       "      <td>227</td>\n",
       "      <td>242100.0</td>\n",
       "      <td>103</td>\n",
       "      <td>242275.0</td>\n",
       "      <td>15</td>\n",
       "      <td>242075.0</td>\n",
       "      <td>20</td>\n",
       "      <td>242300.0</td>\n",
       "      <td>120</td>\n",
       "    </tr>\n",
       "    <tr>\n",
       "      <th>1499032800053593359</th>\n",
       "      <td>3102</td>\n",
       "      <td>242175.0</td>\n",
       "      <td>40</td>\n",
       "      <td>242200.0</td>\n",
       "      <td>56</td>\n",
       "      <td>242150.0</td>\n",
       "      <td>56</td>\n",
       "      <td>242225.0</td>\n",
       "      <td>127</td>\n",
       "      <td>242125.0</td>\n",
       "      <td>...</td>\n",
       "      <td>242250.0</td>\n",
       "      <td>227</td>\n",
       "      <td>242100.0</td>\n",
       "      <td>103</td>\n",
       "      <td>242275.0</td>\n",
       "      <td>15</td>\n",
       "      <td>242075.0</td>\n",
       "      <td>20</td>\n",
       "      <td>242300.0</td>\n",
       "      <td>120</td>\n",
       "    </tr>\n",
       "    <tr>\n",
       "      <th>1499032800053820133</th>\n",
       "      <td>3112</td>\n",
       "      <td>242175.0</td>\n",
       "      <td>40</td>\n",
       "      <td>242200.0</td>\n",
       "      <td>56</td>\n",
       "      <td>242150.0</td>\n",
       "      <td>56</td>\n",
       "      <td>242225.0</td>\n",
       "      <td>127</td>\n",
       "      <td>242125.0</td>\n",
       "      <td>...</td>\n",
       "      <td>242250.0</td>\n",
       "      <td>227</td>\n",
       "      <td>242100.0</td>\n",
       "      <td>104</td>\n",
       "      <td>242275.0</td>\n",
       "      <td>15</td>\n",
       "      <td>242075.0</td>\n",
       "      <td>20</td>\n",
       "      <td>242300.0</td>\n",
       "      <td>120</td>\n",
       "    </tr>\n",
       "    <tr>\n",
       "      <th>1499032800058360815</th>\n",
       "      <td>3136</td>\n",
       "      <td>242150.0</td>\n",
       "      <td>56</td>\n",
       "      <td>242200.0</td>\n",
       "      <td>56</td>\n",
       "      <td>242125.0</td>\n",
       "      <td>57</td>\n",
       "      <td>242225.0</td>\n",
       "      <td>127</td>\n",
       "      <td>242100.0</td>\n",
       "      <td>...</td>\n",
       "      <td>242250.0</td>\n",
       "      <td>227</td>\n",
       "      <td>242075.0</td>\n",
       "      <td>20</td>\n",
       "      <td>242275.0</td>\n",
       "      <td>15</td>\n",
       "      <td>242050.0</td>\n",
       "      <td>45</td>\n",
       "      <td>242300.0</td>\n",
       "      <td>120</td>\n",
       "    </tr>\n",
       "  </tbody>\n",
       "</table>\n",
       "<p>5 rows × 21 columns</p>\n",
       "</div>"
      ],
      "text/plain": [
       "                    seq_num       bid bid_qty       ask ask_qty       bid  \\\n",
       "                          0         0       0         0       0         1   \n",
       "t_ns                                                                        \n",
       "1499032800045275159    3083  242175.0      41  242200.0      56  242150.0   \n",
       "1499032800045599244    3089  242175.0      47  242200.0      56  242150.0   \n",
       "1499032800053593359    3102  242175.0      40  242200.0      56  242150.0   \n",
       "1499032800053820133    3112  242175.0      40  242200.0      56  242150.0   \n",
       "1499032800058360815    3136  242150.0      56  242200.0      56  242125.0   \n",
       "\n",
       "                    bid_qty       ask ask_qty       bid   ...         ask  \\\n",
       "                          1         1       1         2   ...           2   \n",
       "t_ns                                                      ...               \n",
       "1499032800045275159      56  242225.0     127  242125.0   ...    242250.0   \n",
       "1499032800045599244      56  242225.0     127  242125.0   ...    242250.0   \n",
       "1499032800053593359      56  242225.0     127  242125.0   ...    242250.0   \n",
       "1499032800053820133      56  242225.0     127  242125.0   ...    242250.0   \n",
       "1499032800058360815      57  242225.0     127  242100.0   ...    242250.0   \n",
       "\n",
       "                    ask_qty       bid bid_qty       ask ask_qty       bid  \\\n",
       "                          2         3       3         3       3         4   \n",
       "t_ns                                                                        \n",
       "1499032800045275159     227  242100.0     103  242275.0      15  242075.0   \n",
       "1499032800045599244     227  242100.0     103  242275.0      15  242075.0   \n",
       "1499032800053593359     227  242100.0     103  242275.0      15  242075.0   \n",
       "1499032800053820133     227  242100.0     104  242275.0      15  242075.0   \n",
       "1499032800058360815     227  242075.0      20  242275.0      15  242050.0   \n",
       "\n",
       "                    bid_qty       ask ask_qty  \n",
       "                          4         4       4  \n",
       "t_ns                                           \n",
       "1499032800045275159      20  242300.0     120  \n",
       "1499032800045599244      20  242300.0     120  \n",
       "1499032800053593359      20  242300.0     120  \n",
       "1499032800053820133      20  242300.0     120  \n",
       "1499032800058360815      45  242300.0     120  \n",
       "\n",
       "[5 rows x 21 columns]"
      ]
     },
     "execution_count": 4,
     "metadata": {},
     "output_type": "execute_result"
    }
   ],
   "source": [
    "# Ok, we see that this is a class with the data stored in the 'data' property, so let's make a data frame out of it\n",
    "df = mydata['data']\n",
    "df.head(5)"
   ]
  },
  {
   "cell_type": "code",
   "execution_count": 5,
   "metadata": {},
   "outputs": [
    {
     "data": {
      "text/plain": [
       "t_ns\n",
       "1499032800045275159    242075.0\n",
       "1499032800045599244    242075.0\n",
       "1499032800053593359    242075.0\n",
       "1499032800053820133    242075.0\n",
       "1499032800058360815    242050.0\n",
       "Name: (bid, 4), dtype: float64"
      ]
     },
     "execution_count": 5,
     "metadata": {},
     "output_type": "execute_result"
    }
   ],
   "source": [
    "# Get the first 5 level 5 bid prices\n",
    "df['bid',4].head()"
   ]
  },
  {
   "cell_type": "code",
   "execution_count": 6,
   "metadata": {},
   "outputs": [
    {
     "data": {
      "text/plain": [
       "t_ns\n",
       "1499032800045275159    15\n",
       "1499032800045599244    15\n",
       "1499032800053593359    15\n",
       "1499032800053820133    15\n",
       "1499032800058360815    15\n",
       "Name: (ask_qty, 3), dtype: int64"
      ]
     },
     "execution_count": 6,
     "metadata": {},
     "output_type": "execute_result"
    }
   ],
   "source": [
    "df['ask_qty',3].head()"
   ]
  },
  {
   "cell_type": "code",
   "execution_count": 7,
   "metadata": {},
   "outputs": [
    {
     "data": {
      "text/plain": [
       "Timestamp('2017-07-02 22:00:00.045275159+0000', tz='UTC')"
      ]
     },
     "execution_count": 7,
     "metadata": {},
     "output_type": "execute_result"
    }
   ],
   "source": [
    "# Convert Unix timestamps to human readable form (have to make sense of the time zone)\n",
    "pd.to_datetime(df.index[0], utc=True)"
   ]
  },
  {
   "cell_type": "markdown",
   "metadata": {},
   "source": [
    "The timestamps look a bit odd... not sure why they go from 22:00 to 17:15. Which time zone is this? Next we extract all the bid and ask prices and volumes into two arrays for plotting."
   ]
  },
  {
   "cell_type": "code",
   "execution_count": 8,
   "metadata": {
    "collapsed": true
   },
   "outputs": [],
   "source": [
    "# Get order book data for one random point in time\n",
    "T = len(df.index) # Number of entries\n",
    "prices = np.concatenate((df['bid'],df['ask']),axis=1) # Create T x 10 matrix with bid (5) and ask (5) prices\n",
    "volumes = np.concatenate((df['bid_qty'],-df['ask_qty']),axis=1) # Same with volumes\n",
    "times = pd.to_datetime(df.index, utc=True) # Get timestamps"
   ]
  },
  {
   "cell_type": "code",
   "execution_count": 10,
   "metadata": {},
   "outputs": [
    {
     "data": {
      "image/png": "[encoded data removed]",
      "text/plain": [
       "<matplotlib.figure.Figure at 0x20f30b92c88>"
      ]
     },
     "metadata": {},
     "output_type": "display_data"
    }
   ],
   "source": [
    "# Bar plot the limit order data for one particular random time point\n",
    "i = rnd.randint(T)\n",
    "# The minimum price movement is 12.5, so the width of the bars should be 25 (or 24 to allow some place between them)\n",
    "plt.bar(prices[i,:], volumes[i,:], width=24)\n",
    "plt.show()"
   ]
  },
  {
   "cell_type": "code",
   "execution_count": 14,
   "metadata": {},
   "outputs": [
    {
     "data": {
      "image/png": "[encoded data removed]",
      "text/plain": [
       "<matplotlib.figure.Figure at 0x20f40ba0a90>"
      ]
     },
     "metadata": {},
     "output_type": "display_data"
    }
   ],
   "source": [
    "# Plot midprices over the whole trading period\n",
    "midprices = (prices[:,5]+prices[:,0])/2\n",
    "plt.plot(times,midprices)\n",
    "plt.show()"
   ]
  },
  {
   "cell_type": "code",
   "execution_count": null,
   "metadata": {
    "collapsed": true
   },
   "outputs": [],
   "source": []
  }
 ],
 "metadata": {
  "anaconda-cloud": {},
  "kernelspec": {
   "display_name": "Python 3",
   "language": "python",
   "name": "python3"
  },
  "language_info": {
   "codemirror_mode": {
    "name": "ipython",
    "version": 3
   },
   "file_extension": ".py",
   "mimetype": "text/x-python",
   "name": "python",
   "nbconvert_exporter": "python",
   "pygments_lexer": "ipython3",
   "version": "3.6.2"
  }
 },
 "nbformat": 4,
 "nbformat_minor": 1
}
